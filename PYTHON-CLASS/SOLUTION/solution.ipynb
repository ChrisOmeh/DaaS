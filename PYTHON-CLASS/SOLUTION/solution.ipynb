{
 "cells": [
  {
   "cell_type": "code",
   "execution_count": 1,
   "metadata": {},
   "outputs": [],
   "source": [
    "import pandas as pd\n",
    "import numpy as np\n",
    "import os, glob, shutil"
   ]
  },
  {
   "cell_type": "code",
   "execution_count": 2,
   "metadata": {},
   "outputs": [
    {
     "name": "stdout",
     "output_type": "stream",
     "text": [
      "/home/chuxian/DaaS/PYTHON-CLASS/SOLUTION\n"
     ]
    }
   ],
   "source": [
    "!pwd"
   ]
  },
  {
   "cell_type": "code",
   "execution_count": 3,
   "metadata": {},
   "outputs": [
    {
     "data": {
      "text/plain": [
       "['Economics.csv',\n",
       " 'Maths.csv',\n",
       " 'English.csv',\n",
       " 'Accountancy Result.csv',\n",
       " 'Business Studies.csv']"
      ]
     },
     "execution_count": 3,
     "metadata": {},
     "output_type": "execute_result"
    }
   ],
   "source": [
    "os.listdir(\"/home/chuxian/DaaS/PYTHON-CLASS/CSV_FILES\")"
   ]
  },
  {
   "cell_type": "code",
   "execution_count": 4,
   "metadata": {},
   "outputs": [],
   "source": [
    "csv_file_path = \"/home/chuxian/DaaS/PYTHON-CLASS/CSV_FILES\"\n",
    "excel_file_path = \"/home/chuxian/DaaS/PYTHON-CLASS/EXCEL_FILES\"\n",
    "\n",
    "account = pd.read_csv(csv_file_path + \"/Accountancy Result.csv\")\n",
    "economics = pd.read_csv(csv_file_path+\"/Economics.csv\")\n",
    "english = pd.read_csv(csv_file_path+\"/English.csv\")\n",
    "business = pd.read_csv(csv_file_path+\"/Business Studies.csv\")\n",
    "maths = pd.read_csv(csv_file_path+\"/Maths.csv\")"
   ]
  },
  {
   "cell_type": "code",
   "execution_count": 5,
   "metadata": {},
   "outputs": [
    {
     "name": "stdout",
     "output_type": "stream",
     "text": [
      "       Name  Mark\n",
      "0  Akhilesh    97\n",
      "1     Ruchi    69\n",
      "2    Bhawna    19\n",
      "3      Isha    76\n",
      "4    Chetan    55 \n",
      "        Name  Mark\n",
      "0  Akhilesh    13\n",
      "1     Ruchi    51\n",
      "2    Bhawna    53\n",
      "3      Isha    11\n",
      "4    Chetan    99\n"
     ]
    }
   ],
   "source": [
    "print(account.head(), '\\n', economics.head())"
   ]
  },
  {
   "cell_type": "code",
   "execution_count": 6,
   "metadata": {},
   "outputs": [
    {
     "name": "stdout",
     "output_type": "stream",
     "text": [
      "       Name  Mark\n",
      "0  Akhilesh    36\n",
      "1     Ruchi    85\n",
      "2    Bhawna    72\n",
      "3      Isha    68\n",
      "4    Chetan    31 \n",
      "        Name  Mark\n",
      "0  Akhilesh    34\n",
      "1     Ruchi    53\n",
      "2    Bhawna    40\n",
      "3      Isha    22\n",
      "4    Chetan    93\n"
     ]
    }
   ],
   "source": [
    "print(english.head(), '\\n', business.head())"
   ]
  },
  {
   "cell_type": "code",
   "execution_count": 7,
   "metadata": {},
   "outputs": [
    {
     "name": "stdout",
     "output_type": "stream",
     "text": [
      "       Name  Mark\n",
      "0  Akhilesh    47\n",
      "1     Ruchi    86\n",
      "2    Bhawna    41\n",
      "3      Isha    46\n",
      "4    Chetan    56\n"
     ]
    }
   ],
   "source": [
    "print(maths.head())"
   ]
  },
  {
   "cell_type": "code",
   "execution_count": 8,
   "metadata": {},
   "outputs": [],
   "source": [
    "account.to_excel(excel_file_path+\"/Accontancy.xlsx\")\n",
    "economics.to_excel(excel_file_path+\"/Economics.xlsx\")\n",
    "english.to_excel(excel_file_path+\"/English.xlsx\")\n",
    "maths.to_excel(excel_file_path+\"/Maths.xlsx\")\n",
    "business.to_excel(excel_file_path+\"/Business.xlsx\")"
   ]
  },
  {
   "cell_type": "code",
   "execution_count": 9,
   "metadata": {},
   "outputs": [
    {
     "name": "stdout",
     "output_type": "stream",
     "text": [
      "['Business.xlsx', 'English.xlsx', 'Economics.xlsx', 'Accontancy.xlsx', 'Maths.xlsx']\n",
      "FileBusiness.xlsx is a <class 'str'> file type\n",
      "FileEnglish.xlsx is a <class 'str'> file type\n",
      "FileEconomics.xlsx is a <class 'str'> file type\n",
      "FileAccontancy.xlsx is a <class 'str'> file type\n",
      "FileMaths.xlsx is a <class 'str'> file type\n"
     ]
    }
   ],
   "source": [
    "files_in_pwd = os.listdir(excel_file_path)\n",
    "print(files_in_pwd)\n",
    "for i in files_in_pwd:\n",
    "    print(f\"File{i} is a {type(i)} file type\")"
   ]
  },
  {
   "cell_type": "code",
   "execution_count": 10,
   "metadata": {},
   "outputs": [],
   "source": [
    "# new_excel_file_array = list()\n",
    "# files_in_pwd = os.listdir(excel_file_path)\n",
    "# for files in files_in_pwd:\n",
    "#     print(f\"==THE FILE IS {files}==\")\n",
    "#     if files.endswith(\".xlsx\"):\n",
    "#         #shutil.move(csv_file_path+str(files), excel_file_path)\n",
    "#         dataset = pd.read_excel(files)\n",
    "#         new_excel_file_array.append(dataset)\n",
    "#     else:\n",
    "#         print(f\"==THE FILE {files} IS NOT AN EXCEL FILE==\")\n",
    "\n",
    "# pass"
   ]
  },
  {
   "cell_type": "code",
   "execution_count": 11,
   "metadata": {},
   "outputs": [],
   "source": [
    "# # CREATING NEW COLUMN FOR SUBJECT\n",
    "# account_excel = pd.read_csv(excel_file_path+\"/Accontancy.xlsx\")\n",
    "# economics_excel = pd.read_csv(excel_file_path+\"/Economics.xlsx\")\n",
    "# english_excel = pd.read_csv(excel_file_path+\"/English.xlsx\")\n",
    "# business_excel = pd.read_csv(excel_file_path+\"/Business.xlsx\")\n",
    "# maths_excel = pd.read_csv(excel_file_path+\"/Maths.xlsx\")"
   ]
  },
  {
   "cell_type": "code",
   "execution_count": 12,
   "metadata": {},
   "outputs": [],
   "source": [
    "# CREATING NEW COLUMN FOR SUBJECT\n",
    "# ACCOUNTING\n",
    "account[\"Subject\"] = \"Accountancy\"\n",
    "economics[\"Subject\"] = \"Economics\"\n",
    "english[\"Subject\"] = \"English\"\n",
    "business[\"Subject\"] = \"Business Studies\"\n",
    "maths[\"Subject\"] = \"Mathematics\""
   ]
  },
  {
   "cell_type": "code",
   "execution_count": 13,
   "metadata": {},
   "outputs": [
    {
     "name": "stdout",
     "output_type": "stream",
     "text": [
      "       Name  Mark      Subject\n",
      "0  Akhilesh    97  Accountancy\n",
      "1     Ruchi    69  Accountancy\n",
      "2    Bhawna    19  Accountancy\n",
      "3      Isha    76  Accountancy\n",
      "4    Chetan    55  Accountancy \n",
      "        Name  Mark    Subject\n",
      "0  Akhilesh    13  Economics\n",
      "1     Ruchi    51  Economics\n",
      "2    Bhawna    53  Economics\n",
      "3      Isha    11  Economics\n",
      "4    Chetan    99  Economics\n"
     ]
    }
   ],
   "source": [
    "print(account.head(), '\\n', economics.head())"
   ]
  },
  {
   "cell_type": "code",
   "execution_count": 14,
   "metadata": {},
   "outputs": [
    {
     "name": "stdout",
     "output_type": "stream",
     "text": [
      "       Name  Mark  Subject\n",
      "0  Akhilesh    36  English\n",
      "1     Ruchi    85  English\n",
      "2    Bhawna    72  English\n",
      "3      Isha    68  English\n",
      "4    Chetan    31  English \n",
      "        Name  Mark           Subject\n",
      "0  Akhilesh    34  Business Studies\n",
      "1     Ruchi    53  Business Studies\n",
      "2    Bhawna    40  Business Studies\n",
      "3      Isha    22  Business Studies\n",
      "4    Chetan    93  Business Studies\n"
     ]
    }
   ],
   "source": [
    "print(english.head(), '\\n', business.head())"
   ]
  },
  {
   "cell_type": "code",
   "execution_count": 15,
   "metadata": {},
   "outputs": [
    {
     "name": "stdout",
     "output_type": "stream",
     "text": [
      "       Name  Mark      Subject\n",
      "0  Akhilesh    47  Mathematics\n",
      "1     Ruchi    86  Mathematics\n",
      "2    Bhawna    41  Mathematics\n",
      "3      Isha    46  Mathematics\n",
      "4    Chetan    56  Mathematics\n"
     ]
    }
   ],
   "source": [
    "print(maths.head())"
   ]
  },
  {
   "cell_type": "code",
   "execution_count": 16,
   "metadata": {},
   "outputs": [
    {
     "data": {
      "text/html": [
       "<div>\n",
       "<style scoped>\n",
       "    .dataframe tbody tr th:only-of-type {\n",
       "        vertical-align: middle;\n",
       "    }\n",
       "\n",
       "    .dataframe tbody tr th {\n",
       "        vertical-align: top;\n",
       "    }\n",
       "\n",
       "    .dataframe thead th {\n",
       "        text-align: right;\n",
       "    }\n",
       "</style>\n",
       "<table border=\"1\" class=\"dataframe\">\n",
       "  <thead>\n",
       "    <tr style=\"text-align: right;\">\n",
       "      <th></th>\n",
       "      <th>Name</th>\n",
       "      <th>Mark</th>\n",
       "      <th>Subject</th>\n",
       "    </tr>\n",
       "  </thead>\n",
       "  <tbody>\n",
       "    <tr>\n",
       "      <th>0</th>\n",
       "      <td>Akhilesh</td>\n",
       "      <td>97</td>\n",
       "      <td>Accountancy</td>\n",
       "    </tr>\n",
       "    <tr>\n",
       "      <th>1</th>\n",
       "      <td>Ruchi</td>\n",
       "      <td>69</td>\n",
       "      <td>Accountancy</td>\n",
       "    </tr>\n",
       "    <tr>\n",
       "      <th>2</th>\n",
       "      <td>Bhawna</td>\n",
       "      <td>19</td>\n",
       "      <td>Accountancy</td>\n",
       "    </tr>\n",
       "    <tr>\n",
       "      <th>3</th>\n",
       "      <td>Isha</td>\n",
       "      <td>76</td>\n",
       "      <td>Accountancy</td>\n",
       "    </tr>\n",
       "    <tr>\n",
       "      <th>4</th>\n",
       "      <td>Chetan</td>\n",
       "      <td>55</td>\n",
       "      <td>Accountancy</td>\n",
       "    </tr>\n",
       "  </tbody>\n",
       "</table>\n",
       "</div>"
      ],
      "text/plain": [
       "       Name  Mark      Subject\n",
       "0  Akhilesh    97  Accountancy\n",
       "1     Ruchi    69  Accountancy\n",
       "2    Bhawna    19  Accountancy\n",
       "3      Isha    76  Accountancy\n",
       "4    Chetan    55  Accountancy"
      ]
     },
     "execution_count": 16,
     "metadata": {},
     "output_type": "execute_result"
    }
   ],
   "source": [
    "con_file = [account, economics,english,business,maths]\n",
    "Grade = pd.concat(con_file, axis = 0)\n",
    "Grade.head()"
   ]
  },
  {
   "cell_type": "code",
   "execution_count": 17,
   "metadata": {},
   "outputs": [
    {
     "data": {
      "text/plain": [
       "(600, 3)"
      ]
     },
     "execution_count": 17,
     "metadata": {},
     "output_type": "execute_result"
    }
   ],
   "source": [
    "Grade.shape"
   ]
  },
  {
   "cell_type": "code",
   "execution_count": 18,
   "metadata": {},
   "outputs": [
    {
     "data": {
      "text/html": [
       "<div>\n",
       "<style scoped>\n",
       "    .dataframe tbody tr th:only-of-type {\n",
       "        vertical-align: middle;\n",
       "    }\n",
       "\n",
       "    .dataframe tbody tr th {\n",
       "        vertical-align: top;\n",
       "    }\n",
       "\n",
       "    .dataframe thead tr th {\n",
       "        text-align: left;\n",
       "    }\n",
       "\n",
       "    .dataframe thead tr:last-of-type th {\n",
       "        text-align: right;\n",
       "    }\n",
       "</style>\n",
       "<table border=\"1\" class=\"dataframe\">\n",
       "  <thead>\n",
       "    <tr>\n",
       "      <th></th>\n",
       "      <th colspan=\"5\" halign=\"left\">sum</th>\n",
       "    </tr>\n",
       "    <tr>\n",
       "      <th>Subject</th>\n",
       "      <th>Accountancy</th>\n",
       "      <th>Business Studies</th>\n",
       "      <th>Economics</th>\n",
       "      <th>English</th>\n",
       "      <th>Mathematics</th>\n",
       "    </tr>\n",
       "    <tr>\n",
       "      <th>Name</th>\n",
       "      <th></th>\n",
       "      <th></th>\n",
       "      <th></th>\n",
       "      <th></th>\n",
       "      <th></th>\n",
       "    </tr>\n",
       "  </thead>\n",
       "  <tbody>\n",
       "    <tr>\n",
       "      <th>Abhinandan Kashyap</th>\n",
       "      <td>96</td>\n",
       "      <td>78</td>\n",
       "      <td>73</td>\n",
       "      <td>34</td>\n",
       "      <td>36</td>\n",
       "    </tr>\n",
       "    <tr>\n",
       "      <th>Adbhut Gupta</th>\n",
       "      <td>97</td>\n",
       "      <td>53</td>\n",
       "      <td>77</td>\n",
       "      <td>33</td>\n",
       "      <td>31</td>\n",
       "    </tr>\n",
       "    <tr>\n",
       "      <th>Akhilesh</th>\n",
       "      <td>97</td>\n",
       "      <td>34</td>\n",
       "      <td>13</td>\n",
       "      <td>36</td>\n",
       "      <td>47</td>\n",
       "    </tr>\n",
       "    <tr>\n",
       "      <th>Akshay Verma</th>\n",
       "      <td>83</td>\n",
       "      <td>29</td>\n",
       "      <td>68</td>\n",
       "      <td>98</td>\n",
       "      <td>81</td>\n",
       "    </tr>\n",
       "    <tr>\n",
       "      <th>Amandeep</th>\n",
       "      <td>99</td>\n",
       "      <td>63</td>\n",
       "      <td>47</td>\n",
       "      <td>96</td>\n",
       "      <td>80</td>\n",
       "    </tr>\n",
       "  </tbody>\n",
       "</table>\n",
       "</div>"
      ],
      "text/plain": [
       "                           sum                                               \n",
       "Subject            Accountancy Business Studies Economics English Mathematics\n",
       "Name                                                                         \n",
       "Abhinandan Kashyap          96               78        73      34          36\n",
       "Adbhut Gupta                97               53        77      33          31\n",
       "Akhilesh                    97               34        13      36          47\n",
       "Akshay Verma                83               29        68      98          81\n",
       "Amandeep                    99               63        47      96          80"
      ]
     },
     "execution_count": 18,
     "metadata": {},
     "output_type": "execute_result"
    }
   ],
   "source": [
    "# CREATING PIVOT\n",
    "table = pd.pivot_table(Grade, values='Mark', index=\"Name\",\n",
    "                    columns=\"Subject\", aggfunc=[np.sum])\n",
    "table.head()"
   ]
  },
  {
   "cell_type": "code",
   "execution_count": 19,
   "metadata": {},
   "outputs": [],
   "source": [
    "Grade.to_excel(\"Grade_sheet.xlsx\", sheet_name = \"Grade\", index = False)"
   ]
  },
  {
   "cell_type": "code",
   "execution_count": 20,
   "metadata": {},
   "outputs": [
    {
     "data": {
      "text/html": [
       "<div>\n",
       "<style scoped>\n",
       "    .dataframe tbody tr th:only-of-type {\n",
       "        vertical-align: middle;\n",
       "    }\n",
       "\n",
       "    .dataframe tbody tr th {\n",
       "        vertical-align: top;\n",
       "    }\n",
       "\n",
       "    .dataframe thead th {\n",
       "        text-align: right;\n",
       "    }\n",
       "</style>\n",
       "<table border=\"1\" class=\"dataframe\">\n",
       "  <thead>\n",
       "    <tr style=\"text-align: right;\">\n",
       "      <th></th>\n",
       "      <th>Name</th>\n",
       "      <th>Mark</th>\n",
       "      <th>Subject</th>\n",
       "    </tr>\n",
       "  </thead>\n",
       "  <tbody>\n",
       "    <tr>\n",
       "      <th>0</th>\n",
       "      <td>Akhilesh</td>\n",
       "      <td>97</td>\n",
       "      <td>Accountancy</td>\n",
       "    </tr>\n",
       "    <tr>\n",
       "      <th>1</th>\n",
       "      <td>Ruchi</td>\n",
       "      <td>69</td>\n",
       "      <td>Accountancy</td>\n",
       "    </tr>\n",
       "    <tr>\n",
       "      <th>2</th>\n",
       "      <td>Bhawna</td>\n",
       "      <td>19</td>\n",
       "      <td>Accountancy</td>\n",
       "    </tr>\n",
       "    <tr>\n",
       "      <th>3</th>\n",
       "      <td>Isha</td>\n",
       "      <td>76</td>\n",
       "      <td>Accountancy</td>\n",
       "    </tr>\n",
       "    <tr>\n",
       "      <th>4</th>\n",
       "      <td>Chetan</td>\n",
       "      <td>55</td>\n",
       "      <td>Accountancy</td>\n",
       "    </tr>\n",
       "  </tbody>\n",
       "</table>\n",
       "</div>"
      ],
      "text/plain": [
       "       Name  Mark      Subject\n",
       "0  Akhilesh    97  Accountancy\n",
       "1     Ruchi    69  Accountancy\n",
       "2    Bhawna    19  Accountancy\n",
       "3      Isha    76  Accountancy\n",
       "4    Chetan    55  Accountancy"
      ]
     },
     "execution_count": 20,
     "metadata": {},
     "output_type": "execute_result"
    }
   ],
   "source": [
    "gr = pd.read_excel(\"Grade_sheet.xlsx\")\n",
    "gr.head()"
   ]
  },
  {
   "cell_type": "code",
   "execution_count": 23,
   "metadata": {},
   "outputs": [
    {
     "data": {
      "text/html": [
       "<div>\n",
       "<style scoped>\n",
       "    .dataframe tbody tr th:only-of-type {\n",
       "        vertical-align: middle;\n",
       "    }\n",
       "\n",
       "    .dataframe tbody tr th {\n",
       "        vertical-align: top;\n",
       "    }\n",
       "\n",
       "    .dataframe thead th {\n",
       "        text-align: right;\n",
       "    }\n",
       "</style>\n",
       "<table border=\"1\" class=\"dataframe\">\n",
       "  <thead>\n",
       "    <tr style=\"text-align: right;\">\n",
       "      <th>Subject</th>\n",
       "      <th>Accountancy</th>\n",
       "      <th>Business Studies</th>\n",
       "      <th>Economics</th>\n",
       "      <th>English</th>\n",
       "      <th>Mathematics</th>\n",
       "    </tr>\n",
       "    <tr>\n",
       "      <th>Name</th>\n",
       "      <th></th>\n",
       "      <th></th>\n",
       "      <th></th>\n",
       "      <th></th>\n",
       "      <th></th>\n",
       "    </tr>\n",
       "  </thead>\n",
       "  <tbody>\n",
       "    <tr>\n",
       "      <th>Abhinandan Kashyap</th>\n",
       "      <td>96</td>\n",
       "      <td>78</td>\n",
       "      <td>73</td>\n",
       "      <td>34</td>\n",
       "      <td>36</td>\n",
       "    </tr>\n",
       "    <tr>\n",
       "      <th>Adbhut Gupta</th>\n",
       "      <td>97</td>\n",
       "      <td>53</td>\n",
       "      <td>77</td>\n",
       "      <td>33</td>\n",
       "      <td>31</td>\n",
       "    </tr>\n",
       "    <tr>\n",
       "      <th>Akhilesh</th>\n",
       "      <td>97</td>\n",
       "      <td>34</td>\n",
       "      <td>13</td>\n",
       "      <td>36</td>\n",
       "      <td>47</td>\n",
       "    </tr>\n",
       "    <tr>\n",
       "      <th>Akshay Verma</th>\n",
       "      <td>83</td>\n",
       "      <td>29</td>\n",
       "      <td>68</td>\n",
       "      <td>98</td>\n",
       "      <td>81</td>\n",
       "    </tr>\n",
       "    <tr>\n",
       "      <th>Amandeep</th>\n",
       "      <td>99</td>\n",
       "      <td>63</td>\n",
       "      <td>47</td>\n",
       "      <td>96</td>\n",
       "      <td>80</td>\n",
       "    </tr>\n",
       "    <tr>\n",
       "      <th>Amandeep Singh</th>\n",
       "      <td>52</td>\n",
       "      <td>26</td>\n",
       "      <td>73</td>\n",
       "      <td>70</td>\n",
       "      <td>35</td>\n",
       "    </tr>\n",
       "  </tbody>\n",
       "</table>\n",
       "</div>"
      ],
      "text/plain": [
       "Subject             Accountancy  Business Studies  Economics  English  \\\n",
       "Name                                                                    \n",
       "Abhinandan Kashyap           96                78         73       34   \n",
       "Adbhut Gupta                 97                53         77       33   \n",
       "Akhilesh                     97                34         13       36   \n",
       "Akshay Verma                 83                29         68       98   \n",
       "Amandeep                     99                63         47       96   \n",
       "Amandeep Singh               52                26         73       70   \n",
       "\n",
       "Subject             Mathematics  \n",
       "Name                             \n",
       "Abhinandan Kashyap           36  \n",
       "Adbhut Gupta                 31  \n",
       "Akhilesh                     47  \n",
       "Akshay Verma                 81  \n",
       "Amandeep                     80  \n",
       "Amandeep Singh               35  "
      ]
     },
     "execution_count": 23,
     "metadata": {},
     "output_type": "execute_result"
    }
   ],
   "source": [
    "tb_pivot = gr.pivot(index=\"Name\", columns=\"Subject\", values=\"Mark\")\n",
    "tb_pivot.head(n = 6)"
   ]
  },
  {
   "cell_type": "code",
   "execution_count": 24,
   "metadata": {},
   "outputs": [
    {
     "data": {
      "text/plain": [
       "Index(['Accountancy', 'Business Studies', 'Economics', 'English',\n",
       "       'Mathematics'],\n",
       "      dtype='object', name='Subject')"
      ]
     },
     "execution_count": 24,
     "metadata": {},
     "output_type": "execute_result"
    }
   ],
   "source": [
    "tb_pivot.columns"
   ]
  },
  {
   "cell_type": "code",
   "execution_count": 37,
   "metadata": {},
   "outputs": [
    {
     "data": {
      "text/html": [
       "<div>\n",
       "<style scoped>\n",
       "    .dataframe tbody tr th:only-of-type {\n",
       "        vertical-align: middle;\n",
       "    }\n",
       "\n",
       "    .dataframe tbody tr th {\n",
       "        vertical-align: top;\n",
       "    }\n",
       "\n",
       "    .dataframe thead th {\n",
       "        text-align: right;\n",
       "    }\n",
       "</style>\n",
       "<table border=\"1\" class=\"dataframe\">\n",
       "  <thead>\n",
       "    <tr style=\"text-align: right;\">\n",
       "      <th>Subject</th>\n",
       "      <th>Accountancy</th>\n",
       "      <th>Business Studies</th>\n",
       "      <th>Economics</th>\n",
       "      <th>English</th>\n",
       "      <th>Mathematics</th>\n",
       "      <th>Total</th>\n",
       "      <th>Average</th>\n",
       "    </tr>\n",
       "    <tr>\n",
       "      <th>Name</th>\n",
       "      <th></th>\n",
       "      <th></th>\n",
       "      <th></th>\n",
       "      <th></th>\n",
       "      <th></th>\n",
       "      <th></th>\n",
       "      <th></th>\n",
       "    </tr>\n",
       "  </thead>\n",
       "  <tbody>\n",
       "    <tr>\n",
       "      <th>Abhinandan Kashyap</th>\n",
       "      <td>96</td>\n",
       "      <td>78</td>\n",
       "      <td>73</td>\n",
       "      <td>34</td>\n",
       "      <td>36</td>\n",
       "      <td>317</td>\n",
       "      <td>79.0</td>\n",
       "    </tr>\n",
       "    <tr>\n",
       "      <th>Adbhut Gupta</th>\n",
       "      <td>97</td>\n",
       "      <td>53</td>\n",
       "      <td>77</td>\n",
       "      <td>33</td>\n",
       "      <td>31</td>\n",
       "      <td>291</td>\n",
       "      <td>73.0</td>\n",
       "    </tr>\n",
       "    <tr>\n",
       "      <th>Akhilesh</th>\n",
       "      <td>97</td>\n",
       "      <td>34</td>\n",
       "      <td>13</td>\n",
       "      <td>36</td>\n",
       "      <td>47</td>\n",
       "      <td>227</td>\n",
       "      <td>57.0</td>\n",
       "    </tr>\n",
       "    <tr>\n",
       "      <th>Akshay Verma</th>\n",
       "      <td>83</td>\n",
       "      <td>29</td>\n",
       "      <td>68</td>\n",
       "      <td>98</td>\n",
       "      <td>81</td>\n",
       "      <td>359</td>\n",
       "      <td>90.0</td>\n",
       "    </tr>\n",
       "    <tr>\n",
       "      <th>Amandeep</th>\n",
       "      <td>99</td>\n",
       "      <td>63</td>\n",
       "      <td>47</td>\n",
       "      <td>96</td>\n",
       "      <td>80</td>\n",
       "      <td>385</td>\n",
       "      <td>96.0</td>\n",
       "    </tr>\n",
       "    <tr>\n",
       "      <th>Amandeep Singh</th>\n",
       "      <td>52</td>\n",
       "      <td>26</td>\n",
       "      <td>73</td>\n",
       "      <td>70</td>\n",
       "      <td>35</td>\n",
       "      <td>256</td>\n",
       "      <td>64.0</td>\n",
       "    </tr>\n",
       "  </tbody>\n",
       "</table>\n",
       "</div>"
      ],
      "text/plain": [
       "Subject             Accountancy  Business Studies  Economics  English  \\\n",
       "Name                                                                    \n",
       "Abhinandan Kashyap           96                78         73       34   \n",
       "Adbhut Gupta                 97                53         77       33   \n",
       "Akhilesh                     97                34         13       36   \n",
       "Akshay Verma                 83                29         68       98   \n",
       "Amandeep                     99                63         47       96   \n",
       "Amandeep Singh               52                26         73       70   \n",
       "\n",
       "Subject             Mathematics  Total  Average  \n",
       "Name                                             \n",
       "Abhinandan Kashyap           36    317     79.0  \n",
       "Adbhut Gupta                 31    291     73.0  \n",
       "Akhilesh                     47    227     57.0  \n",
       "Akshay Verma                 81    359     90.0  \n",
       "Amandeep                     80    385     96.0  \n",
       "Amandeep Singh               35    256     64.0  "
      ]
     },
     "execution_count": 37,
     "metadata": {},
     "output_type": "execute_result"
    }
   ],
   "source": [
    "tb_pivot[\"Total\"] = tb_pivot['Accountancy']+tb_pivot['Business Studies']+tb_pivot['Economics']+tb_pivot['English']+tb_pivot['Mathematics']\n",
    "tb_pivot[\"Average\"] = round((tb_pivot['Accountancy']+tb_pivot['Business Studies']+tb_pivot['Economics']+tb_pivot['English']+tb_pivot['Mathematics'])/4)\n",
    "tb_pivot.head(n=6).sort_values(by = \"Name\")"
   ]
  },
  {
   "cell_type": "code",
   "execution_count": 38,
   "metadata": {},
   "outputs": [
    {
     "data": {
      "text/html": [
       "<div>\n",
       "<style scoped>\n",
       "    .dataframe tbody tr th:only-of-type {\n",
       "        vertical-align: middle;\n",
       "    }\n",
       "\n",
       "    .dataframe tbody tr th {\n",
       "        vertical-align: top;\n",
       "    }\n",
       "\n",
       "    .dataframe thead th {\n",
       "        text-align: right;\n",
       "    }\n",
       "</style>\n",
       "<table border=\"1\" class=\"dataframe\">\n",
       "  <thead>\n",
       "    <tr style=\"text-align: right;\">\n",
       "      <th>Subject</th>\n",
       "      <th>Accountancy</th>\n",
       "      <th>Business Studies</th>\n",
       "      <th>Economics</th>\n",
       "      <th>English</th>\n",
       "      <th>Mathematics</th>\n",
       "      <th>Total</th>\n",
       "      <th>Average</th>\n",
       "    </tr>\n",
       "    <tr>\n",
       "      <th>Name</th>\n",
       "      <th></th>\n",
       "      <th></th>\n",
       "      <th></th>\n",
       "      <th></th>\n",
       "      <th></th>\n",
       "      <th></th>\n",
       "      <th></th>\n",
       "    </tr>\n",
       "  </thead>\n",
       "  <tbody>\n",
       "    <tr>\n",
       "      <th>Suman</th>\n",
       "      <td>67</td>\n",
       "      <td>54</td>\n",
       "      <td>66</td>\n",
       "      <td>17</td>\n",
       "      <td>22</td>\n",
       "      <td>226</td>\n",
       "      <td>56.0</td>\n",
       "    </tr>\n",
       "    <tr>\n",
       "      <th>Sunny</th>\n",
       "      <td>84</td>\n",
       "      <td>69</td>\n",
       "      <td>77</td>\n",
       "      <td>17</td>\n",
       "      <td>63</td>\n",
       "      <td>310</td>\n",
       "      <td>78.0</td>\n",
       "    </tr>\n",
       "    <tr>\n",
       "      <th>Suresh</th>\n",
       "      <td>75</td>\n",
       "      <td>78</td>\n",
       "      <td>30</td>\n",
       "      <td>61</td>\n",
       "      <td>78</td>\n",
       "      <td>322</td>\n",
       "      <td>80.0</td>\n",
       "    </tr>\n",
       "    <tr>\n",
       "      <th>Surinder Verma</th>\n",
       "      <td>51</td>\n",
       "      <td>77</td>\n",
       "      <td>14</td>\n",
       "      <td>80</td>\n",
       "      <td>30</td>\n",
       "      <td>252</td>\n",
       "      <td>63.0</td>\n",
       "    </tr>\n",
       "    <tr>\n",
       "      <th>Tina</th>\n",
       "      <td>69</td>\n",
       "      <td>55</td>\n",
       "      <td>90</td>\n",
       "      <td>35</td>\n",
       "      <td>64</td>\n",
       "      <td>313</td>\n",
       "      <td>78.0</td>\n",
       "    </tr>\n",
       "    <tr>\n",
       "      <th>Vicky Vishisht</th>\n",
       "      <td>42</td>\n",
       "      <td>18</td>\n",
       "      <td>28</td>\n",
       "      <td>51</td>\n",
       "      <td>39</td>\n",
       "      <td>178</td>\n",
       "      <td>44.0</td>\n",
       "    </tr>\n",
       "    <tr>\n",
       "      <th>Vipul</th>\n",
       "      <td>64</td>\n",
       "      <td>59</td>\n",
       "      <td>37</td>\n",
       "      <td>81</td>\n",
       "      <td>50</td>\n",
       "      <td>291</td>\n",
       "      <td>73.0</td>\n",
       "    </tr>\n",
       "    <tr>\n",
       "      <th>Vishav Sehajpal</th>\n",
       "      <td>14</td>\n",
       "      <td>45</td>\n",
       "      <td>18</td>\n",
       "      <td>35</td>\n",
       "      <td>97</td>\n",
       "      <td>209</td>\n",
       "      <td>52.0</td>\n",
       "    </tr>\n",
       "    <tr>\n",
       "      <th>Yogesh Sahgal</th>\n",
       "      <td>26</td>\n",
       "      <td>11</td>\n",
       "      <td>74</td>\n",
       "      <td>76</td>\n",
       "      <td>49</td>\n",
       "      <td>236</td>\n",
       "      <td>59.0</td>\n",
       "    </tr>\n",
       "    <tr>\n",
       "      <th>Yogesh Verma</th>\n",
       "      <td>78</td>\n",
       "      <td>13</td>\n",
       "      <td>14</td>\n",
       "      <td>85</td>\n",
       "      <td>77</td>\n",
       "      <td>267</td>\n",
       "      <td>67.0</td>\n",
       "    </tr>\n",
       "  </tbody>\n",
       "</table>\n",
       "</div>"
      ],
      "text/plain": [
       "Subject          Accountancy  Business Studies  Economics  English  \\\n",
       "Name                                                                 \n",
       "Suman                     67                54         66       17   \n",
       "Sunny                     84                69         77       17   \n",
       "Suresh                    75                78         30       61   \n",
       "Surinder Verma            51                77         14       80   \n",
       "Tina                      69                55         90       35   \n",
       "Vicky Vishisht            42                18         28       51   \n",
       "Vipul                     64                59         37       81   \n",
       "Vishav Sehajpal           14                45         18       35   \n",
       "Yogesh Sahgal             26                11         74       76   \n",
       "Yogesh Verma              78                13         14       85   \n",
       "\n",
       "Subject          Mathematics  Total  Average  \n",
       "Name                                          \n",
       "Suman                     22    226     56.0  \n",
       "Sunny                     63    310     78.0  \n",
       "Suresh                    78    322     80.0  \n",
       "Surinder Verma            30    252     63.0  \n",
       "Tina                      64    313     78.0  \n",
       "Vicky Vishisht            39    178     44.0  \n",
       "Vipul                     50    291     73.0  \n",
       "Vishav Sehajpal           97    209     52.0  \n",
       "Yogesh Sahgal             49    236     59.0  \n",
       "Yogesh Verma              77    267     67.0  "
      ]
     },
     "execution_count": 38,
     "metadata": {},
     "output_type": "execute_result"
    }
   ],
   "source": [
    "tb_pivot.tail(n=10).sort_values(by = \"Name\")"
   ]
  },
  {
   "cell_type": "code",
   "execution_count": 41,
   "metadata": {},
   "outputs": [
    {
     "name": "stdout",
     "output_type": "stream",
     "text": [
      ".\n"
     ]
    }
   ],
   "source": [
    "from pathlib import Path\n",
    "\n",
    "print(Path())"
   ]
  }
 ],
 "metadata": {
  "kernelspec": {
   "display_name": "Python 3.9.12 ('base')",
   "language": "python",
   "name": "python3"
  },
  "language_info": {
   "codemirror_mode": {
    "name": "ipython",
    "version": 3
   },
   "file_extension": ".py",
   "mimetype": "text/x-python",
   "name": "python",
   "nbconvert_exporter": "python",
   "pygments_lexer": "ipython3",
   "version": "3.9.12"
  },
  "orig_nbformat": 4,
  "vscode": {
   "interpreter": {
    "hash": "0aecd21e1e18b71e6d6e998217df32e73f634544fa3ec789008d5989b5ef83e4"
   }
  }
 },
 "nbformat": 4,
 "nbformat_minor": 2
}
